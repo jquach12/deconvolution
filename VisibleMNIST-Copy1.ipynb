{
 "cells": [
  {
   "cell_type": "code",
   "execution_count": 1,
   "metadata": {},
   "outputs": [],
   "source": [
    "# Load the necessary packages.# Load  \n",
    "\n",
    "import torch\n",
    "import torchvision\n",
    "import torch.nn as nn\n",
    "import numpy as np\n",
    "import torch.utils.data as data\n",
    "import torchvision.transforms as transforms\n",
    "import torchvision.models as models\n",
    "from torch.autograd import Variable\n",
    "import matplotlib.pyplot as plt\n",
    "from torchvision.transforms import ToPILImage\n",
    "from PIL import Image\n",
    "import progressbar\n",
    "to_pil=ToPILImage()\n",
    "%matplotlib inline\n",
    "def load_image(path):\n",
    "    image = Image.open(path) #convert LA is greyscale\n",
    "    plt.imshow(image)\n",
    "    plt.title(\"Image loaded successfully\")\n",
    "    plt.axis(\"off\")\n",
    "    return image\n",
    "\n",
    "def preprocess_image(image):\n",
    "    normalize = transforms.Normalize(\n",
    "    mean=[0.485, 0.456, 0.406],\n",
    "    std=[0.229, 0.224, 0.225]\n",
    "    )\n",
    "    preprocess = transforms.Compose([\n",
    "    transforms.Scale(28),\n",
    "    transforms.Grayscale(),\n",
    "    transforms.ToTensor(),\n",
    "    normalize\n",
    "    ])\n",
    "    var_image = Variable(preprocess(image).unsqueeze_(0), requires_grad=True)\n",
    "    print(type(var_image))\n",
    "    \n",
    "    return var_image"
   ]
  },
  {
   "cell_type": "code",
   "execution_count": 2,
   "metadata": {},
   "outputs": [],
   "source": [
    "# ReLU backward hook.\n",
    "\n",
    "def relu_backward_deconv_hook(module,grad_in,grad_out):\n",
    "     if isinstance(module, nn.ReLU):\n",
    "        return (torch.clamp(grad_out[0], min=0.0),)\n",
    "def Deconvolution(model):\n",
    "    for m in model.modules():\n",
    "        if isinstance(m,nn.ReLU):\n",
    "            m.register_backward_hook(relu_backward_deconv_hook)"
   ]
  },
  {
   "cell_type": "code",
   "execution_count": 3,
   "metadata": {},
   "outputs": [],
   "source": [
    "# License: BSD\n",
    "# Author: Sasank Chilamkurthy\n",
    "\n",
    "from __future__ import print_function, division\n",
    "\n",
    "import torch\n",
    "import torch.nn as nn\n",
    "import torch.optim as optim\n",
    "from torch.optim import lr_scheduler\n",
    "import numpy as np\n",
    "import torchvision\n",
    "from torchvision import datasets, models, transforms\n",
    "import matplotlib.pyplot as plt\n",
    "import time\n",
    "import os\n",
    "import copy\n",
    "\n",
    "plt.ion()   # interactive mode"
   ]
  },
  {
   "cell_type": "code",
   "execution_count": 4,
   "metadata": {},
   "outputs": [],
   "source": [
    "batch_sz = 1\n",
    "\n",
    "transform = transforms.Compose(\n",
    "    [transforms.ToTensor(),\n",
    "     transforms.Normalize((0.5, 0.5, 0.5), (0.5, 0.5, 0.5))])\n",
    "\n",
    "trainset = torchvision.datasets.MNIST(root='./data', train=True,\n",
    "                                        download=True, transform=transform)\n",
    "trainloader = torch.utils.data.DataLoader(trainset, batch_size=batch_sz,\n",
    "                                          shuffle=True, num_workers=2)\n",
    "\n",
    "testset = torchvision.datasets.MNIST(root='./data', train=False,\n",
    "                                       download=True, transform=transform)\n",
    "testloader = torch.utils.data.DataLoader(testset, batch_size=1,\n",
    "                                         shuffle=True, num_workers=2)\n",
    "\n",
    "classes = [i for i in range(10)]"
   ]
  },
  {
   "cell_type": "code",
   "execution_count": 5,
   "metadata": {},
   "outputs": [
    {
     "name": "stdout",
     "output_type": "stream",
     "text": [
      "    5\n"
     ]
    },
    {
     "data": {
      "image/png": "[encoded data removed]",
      "text/plain": [
       "<matplotlib.figure.Figure at 0x1122ca198>"
      ]
     },
     "metadata": {},
     "output_type": "display_data"
    }
   ],
   "source": [
    "import matplotlib.pyplot as plt\n",
    "import numpy as np\n",
    "\n",
    "# functions to show an image\n",
    "\n",
    "\n",
    "def imshow(img):\n",
    "    img = img / 2 + 0.5     # unnormalize\n",
    "    npimg = img.numpy()\n",
    "    plt.imshow(np.transpose(npimg, (1, 2, 0)))\n",
    "\n",
    "\n",
    "# get some random training images\n",
    "dataiter = iter(trainloader)\n",
    "images, labels = dataiter.next()\n",
    "\n",
    "# show images\n",
    "imshow(torchvision.utils.make_grid(images))\n",
    "# print labels\n",
    "print(' '.join('%5s' % classes[labels[j]] for j in range(1)))"
   ]
  },
  {
   "cell_type": "code",
   "execution_count": 6,
   "metadata": {},
   "outputs": [
    {
     "name": "stdout",
     "output_type": "stream",
     "text": [
      "MNISTConvNet(\n",
      "  (conv1): Conv2d(1, 10, kernel_size=(5, 5), stride=(1, 1))\n",
      "  (pool1): MaxPool2d(kernel_size=2, stride=2, padding=0, dilation=1, ceil_mode=False)\n",
      "  (conv2): Conv2d(10, 20, kernel_size=(5, 5), stride=(1, 1))\n",
      "  (pool2): MaxPool2d(kernel_size=2, stride=2, padding=0, dilation=1, ceil_mode=False)\n",
      "  (fc1): Linear(in_features=320, out_features=50, bias=True)\n",
      "  (fc2): Linear(in_features=50, out_features=10, bias=True)\n",
      ")\n"
     ]
    }
   ],
   "source": [
    "#https://github.com/pytorch/tutorials/blob/master/beginner_source/former_torchies/nn_tutorial.py\n",
    "\n",
    "# -*- coding: utf-8 -*-\n",
    "\"\"\"\n",
    "nn package\n",
    "==========\n",
    "We’ve redesigned the nn package, so that it’s fully integrated with\n",
    "autograd. Let's review the changes.\n",
    "**Replace containers with autograd:**\n",
    "    You no longer have to use Containers like ``ConcatTable``, or modules like\n",
    "    ``CAddTable``, or use and debug with nngraph. We will seamlessly use\n",
    "    autograd to define our neural networks. For example,\n",
    "    * ``output = nn.CAddTable():forward({input1, input2})`` simply becomes\n",
    "      ``output = input1 + input2``\n",
    "    * ``output = nn.MulConstant(0.5):forward(input)`` simply becomes\n",
    "      ``output = input * 0.5``\n",
    "**State is no longer held in the module, but in the network graph:**\n",
    "    Using recurrent networks should be simpler because of this reason. If\n",
    "    you want to create a recurrent network, simply use the same Linear layer\n",
    "    multiple times, without having to think about sharing weights.\n",
    "    .. figure:: /_static/img/torch-nn-vs-pytorch-nn.png\n",
    "       :alt: torch-nn-vs-pytorch-nn\n",
    "       torch-nn-vs-pytorch-nn\n",
    "**Simplified debugging:**\n",
    "    Debugging is intuitive using Python’s pdb debugger, and **the debugger\n",
    "    and stack traces stop at exactly where an error occurred.** What you see\n",
    "    is what you get.\n",
    "Example 1: ConvNet\n",
    "------------------\n",
    "Let’s see how to create a small ConvNet.\n",
    "All of your networks are derived from the base class ``nn.Module``:\n",
    "-  In the constructor, you declare all the layers you want to use.\n",
    "-  In the forward function, you define how your model is going to be\n",
    "   run, from input to output\n",
    "\"\"\"\n",
    "\n",
    "import torch\n",
    "import torch.nn as nn\n",
    "import torch.nn.functional as F\n",
    "\n",
    "\n",
    "class MNISTConvNet(nn.Module):\n",
    "\n",
    "    def __init__(self):\n",
    "        # this is the place where you instantiate all your modules\n",
    "        # you can later access them using the same names you've given them in\n",
    "        # here\n",
    "        super(MNISTConvNet, self).__init__()\n",
    "        self.conv1 = nn.Conv2d(1, 10, 5)  \n",
    "        self.pool1 = nn.MaxPool2d(2, 2)\n",
    "        self.conv2 = nn.Conv2d(10, 20, 5)\n",
    "        self.pool2 = nn.MaxPool2d(2, 2)\n",
    "        self.fc1 = nn.Linear(320, 50) #320\n",
    "        self.fc2 = nn.Linear(50, 10)\n",
    "\n",
    "    # it's the forward function that defines the network structure\n",
    "    # we're accepting only a single input in here, but if you want,\n",
    "    # feel free to use more\n",
    "    def forward(self, input):\n",
    "        x = self.pool1(F.relu(self.conv1(input)))\n",
    "        x = self.pool2(F.relu(self.conv2(x)))\n",
    "\n",
    "        # in your model definition you can go full crazy and use arbitrary\n",
    "        # python code to define your model structure\n",
    "        # all these are perfectly legal, and will be handled correctly\n",
    "        # by autograd:\n",
    "        # if x.gt(0) > x.numel() / 2:\n",
    "        #      ...\n",
    "        #\n",
    "        # you can even do a loop and reuse the same module inside it\n",
    "        # modules no longer hold ephemeral state, so you can use them\n",
    "        # multiple times during your forward pass\n",
    "        # while x.norm(2) < 10:\n",
    "        #    x = self.conv1(x)\n",
    "\n",
    "        x = x.view(x.size(0), -1)\n",
    "        x = F.relu(self.fc1(x))\n",
    "        x = F.relu(self.fc2(x))\n",
    "        return x\n",
    "\n",
    "###############################################################\n",
    "# Let's use the defined ConvNet now.\n",
    "# You create an instance of the class first.\n",
    "\n",
    "\n",
    "net = torch.load('/Users/silver/Desktop/ucla_medical_imaging_informatics/dl4health_notebooks/deconvolution/vmnist.pt')\n",
    "print(net)\n",
    "\n",
    "#loading weights doesnt work for some reason\n",
    "#net.load_state_dict(torch.load('/Users/silver/Desktop/ucla_medical_imaging_informatics/dl4health_notebooks/deconvolution/vmnist.pt'))\n",
    "########################################################################\n",
    "# .. note::\n",
    "#\n",
    "#     ``torch.nn`` only supports mini-batches The entire ``torch.nn``\n",
    "#     package only supports inputs that are a mini-batch of samples, and not\n",
    "#     a single sample.\n",
    "#\n",
    "#     For example, ``nn.Conv2d`` will take in a 4D Tensor of\n",
    "#     ``nSamples x nChannels x Height x Width``.\n",
    "#\n",
    "#     If you have a single sample, just use ``input.unsqueeze(0)`` to add\n",
    "#     a fake batch dimension.\n"
   ]
  },
  {
   "cell_type": "raw",
   "metadata": {},
   "source": [
    "import torch.optim as optim\n",
    "\n",
    "criterion = nn.CrossEntropyLoss()\n",
    "optimizer = optim.SGD(net.parameters(), lr=0.001, momentum=0.9)\n",
    "\n",
    "num_epochs = 3\n",
    "losses = []\n",
    "for epoch in range(num_epochs):  # loop over the dataset multiple times\n",
    "\n",
    "    running_loss = 0.0\n",
    "    for i, data in enumerate(trainloader, 0):\n",
    "        # get the inputs\n",
    "        inputs, labels = data\n",
    "\n",
    "        # zero the parameter gradients\n",
    "        optimizer.zero_grad()\n",
    "\n",
    "        # forward + backward + optimize\n",
    "        outputs = net(inputs)\n",
    "        loss = criterion(outputs, labels)\n",
    "        loss.backward()\n",
    "        optimizer.step()\n",
    "\n",
    "        # print statistics\n",
    "        running_loss += loss.item()\n",
    "        losses.append(running_loss)\n",
    "        if i % 2000 == 1999:    # print every 2000 mini-batches\n",
    "            print('[%d, %5d] loss: %.3f' %\n",
    "                  (epoch + 1, i + 1, running_loss / 2000))\n",
    "            running_loss = 0.0\n",
    "\n",
    "print('Finished Training')"
   ]
  },
  {
   "cell_type": "code",
   "execution_count": 7,
   "metadata": {},
   "outputs": [],
   "source": [
    "import torch.optim as optim\n",
    "\n",
    "criterion = nn.CrossEntropyLoss()\n",
    "optimizer = optim.SGD(net.parameters(), lr=0.001, momentum=0.9)"
   ]
  },
  {
   "cell_type": "code",
   "execution_count": 8,
   "metadata": {},
   "outputs": [],
   "source": [
    "# # PRINTS FOR DAYS\n",
    "\n",
    "\n",
    "# # #######################################################################\n",
    "# # The output of the ConvNet ``out`` is a ``Tensor``. We compute the loss\n",
    "# # using that, and that results in ``err`` which is also a ``Tensor``.\n",
    "# # Calling ``.backward`` on ``err`` hence will propagate gradients all the\n",
    "# # way through the ConvNet to it’s weights\n",
    "\n",
    "# # Let's access individual layer weights and gradients:\n",
    "\n",
    "# print(\"THIS IS CONV1 WEIGHT GRAD SIZE\")\n",
    "# print(net.conv1.weight.grad.size())\n",
    "\n",
    "# print(\"THIS IS CONV1 WEIGHT GRAD\")\n",
    "# print(net.conv1.weight.grad)\n",
    "\n",
    "\n",
    "# print(\"THIS IS POOL1 WEIGHT GRAD SIZE\")\n",
    "# print(net.pool1.weight.grad.size())\n",
    "\n",
    "# print(\"THIS IS POOL1 WEIGHT GRAD\")\n",
    "# print(net.pool1.weight.grad)\n",
    "\n",
    "\n",
    "# print(\"THIS IS CONV2 WEIGHT GRAD SIZE\")\n",
    "# print(net.conv2.weight.grad.size())\n",
    "\n",
    "# print(\"THIS IS CONV2 WEIGHT GRAD\")\n",
    "# print(net.conv2.weight.grad)\n",
    "\n",
    "# print(\"THIS IS FC1 WEIGHT GRAD SIZE\")\n",
    "# print(net.fc1.weight.grad.size())\n",
    "\n",
    "# print(\"THIS IS FC1 WEIGHT GRAD\")\n",
    "# print(net.fc1.weight.grad)\n",
    "\n",
    "# print(\"THIS IS FC2 WEIGHT GRAD SIZE\")\n",
    "# print(net.fc2.weight.grad.size())\n",
    "\n",
    "# print(\"THIS IS FC2 WEIGHT GRAD\")\n",
    "# print(net.fc2.weight.grad)"
   ]
  },
  {
   "cell_type": "raw",
   "metadata": {},
   "source": [
    "plt.plot(losses)\n",
    "plt.title(\"Losses over {} Epochs\".format(num_epochs))\n",
    "plt.ylabel('Loss')\n",
    "plt.show()\n",
    "\n",
    "torch.save(net, '/Users/silver/Desktop/ucla_medical_imaging_informatics/dl4health_notebooks/deconvolution/vmnist.pt')"
   ]
  },
  {
   "cell_type": "code",
   "execution_count": null,
   "metadata": {},
   "outputs": [],
   "source": []
  },
  {
   "cell_type": "code",
   "execution_count": 9,
   "metadata": {},
   "outputs": [
    {
     "name": "stdout",
     "output_type": "stream",
     "text": [
      "GroundTruth:      4\n",
      "None\n",
      "tensor([[  0.0000,   0.0000,   0.0000,   0.0000,  22.0010,   0.0000,\n",
      "           1.1469,   0.0000,   0.0000,   0.0000]])\n",
      "3.1066313965766312e-09\n",
      "THIS IS GRAD\n",
      "None\n"
     ]
    },
    {
     "name": "stderr",
     "output_type": "stream",
     "text": [
      "Exception ignored in: <bound method _DataLoaderIter.__del__ of <torch.utils.data.dataloader._DataLoaderIter object at 0x1079bb438>>\n",
      "Traceback (most recent call last):\n",
      "  File \"/Users/silver/anaconda3/lib/python3.6/site-packages/torch/utils/data/dataloader.py\", line 349, in __del__\n",
      "    self._shutdown_workers()\n",
      "  File \"/Users/silver/anaconda3/lib/python3.6/site-packages/torch/utils/data/dataloader.py\", line 328, in _shutdown_workers\n",
      "    self.worker_result_queue.get()\n",
      "  File \"/Users/silver/anaconda3/lib/python3.6/multiprocessing/queues.py\", line 337, in get\n",
      "    return _ForkingPickler.loads(res)\n",
      "  File \"/Users/silver/anaconda3/lib/python3.6/site-packages/torch/multiprocessing/reductions.py\", line 86, in rebuild_storage_filename\n",
      "    storage = cls._new_shared_filename(manager, handle, size)\n",
      "RuntimeError: Interrupted system call at /Users/soumith/minicondabuild3/conda-bld/pytorch_1524590658547/work/torch/lib/libshm/core.cpp:125\n"
     ]
    },
    {
     "data": {
      "image/png": "[encoded data removed]",
      "text/plain": [
       "<matplotlib.figure.Figure at 0x1122ca2b0>"
      ]
     },
     "metadata": {},
     "output_type": "display_data"
    }
   ],
   "source": [
    "\n",
    "dataiter = iter(testloader)\n",
    "images, labels = dataiter.next()\n",
    "\n",
    "# print images\n",
    "imshow(torchvision.utils.make_grid(images))\n",
    "print('GroundTruth: ', ' '.join('%5s' % classes[labels[j]] for j in range(1)))\n",
    "\n",
    "#suppose i am interested in first layer\n",
    "print(net.conv1.weight.grad)\n",
    "\n",
    "outputs = net(images)#forward pass\n",
    "\n",
    "print(outputs)\n",
    "loss = criterion(outputs, labels)\n",
    "print(loss.item())\n",
    "print(\"THIS IS GRAD\")\n",
    "print(net.conv1.weight.data.grad)\n",
    "#print(net.conv1.weight.data)\n"
   ]
  },
  {
   "cell_type": "code",
   "execution_count": 10,
   "metadata": {},
   "outputs": [
    {
     "name": "stdout",
     "output_type": "stream",
     "text": [
      "Predicted:      4\n"
     ]
    }
   ],
   "source": [
    "_, predicted = torch.max(outputs, 1)\n",
    "\n",
    "print('Predicted: ', ' '.join('%5s' % classes[predicted[j]]\n",
    "                              for j in range(1)))"
   ]
  },
  {
   "cell_type": "code",
   "execution_count": 48,
   "metadata": {},
   "outputs": [],
   "source": [
    "# Deconvolution of image given the layer and number of filters to visualize.\n",
    "\n",
    "def deconvolution(image,layer=0,num_filters = 1):\n",
    "    \n",
    "    # Get the submodel\n",
    "    #vgg16_submodel=submodel(vgg16,last_layer)\n",
    "\n",
    "    jq_m = copy.deepcopy(net)\n",
    "    #jq_m = jq_m.load_state_dict(torch.load('/Users/silver/Desktop/net1_weight100ep.pt'))\n",
    "    #someLayer = nn.Conv2d(3, 64, kernel_size=(3, 3), stride=(1, 1), padding=(1, 1))\n",
    "    Deconvolution(jq_m)\n",
    "    \n",
    "    #Forward pass.\n",
    "    #output=vgg16_submodel(image)\n",
    "    output = jq_m(image)\n",
    "   # print(net.conv1.weight.data.grad)\n",
    "   # print(jq_m.conv1.weight.grad)\n",
    "    \n",
    "    oldGrad = copy.deepcopy(jq_m.conv1.weight.grad)\n",
    "    print(oldGrad)\n",
    "    #Zero out the existing gradient buffers.\n",
    "    jq_m.zero_grad()\n",
    "\n",
    "    \n",
    "    #print(\"THIS IS CONV1 WEIGHT AFTER ZERO GRAD\")\n",
    "    \n",
    "    \n",
    "    \n",
    "#     someTensor = torch.Tensor(1,5,5,10)\n",
    "#     print(someTensor)\n",
    "    \n",
    "#     print(jq_m)\n",
    "#     print(jq_m.conv1)\n",
    "#     print(jq_m.conv1.weight)\n",
    "#     print(jq_m.conv1.weight.grad)\n",
    "    \n",
    "    counter = 0\n",
    "    jq_m.conv1.weight.grad = torch.zeros(jq_m.conv1.weight.size())\n",
    "    jq_m.conv1.weight.grad[9] = torch.ones(5) #seems to need to know size of filter\n",
    "            \n",
    "    #print(jq_m.conv1.weight.grad)\n",
    "    gradients=[]\n",
    "    bar=progressbar.ProgressBar(max_value=num_filters)\n",
    "\n",
    "    for filter_index in range(num_filters):\n",
    "\n",
    "        #Progress indicator\n",
    "        bar.update(filter_index)\n",
    "\n",
    "        #Calculate the loss.\n",
    "        #loss=torch.max(output[0][filter_index])\n",
    "        #loss = torch.max(output[0])\n",
    "        loss = criterion(outputs,labels)\n",
    "        print(loss)\n",
    "        #Backward Pass\n",
    "        loss.backward(retain_graph=True)\n",
    "\n",
    "        #print(loss)\n",
    "        #Visualize the gradient image\n",
    "        outputs.data=outputs.data-outputs.data.min()\n",
    "        outputs.data/=(outputs.data.max()-outputs.data.min())\n",
    "        grads=outputs.data.squeeze(1)\n",
    "        #grads.transpose_(0,1) #don't use permute.\n",
    "        #grads.transpose_(1,0)\n",
    "        gradients.append(grads)\n",
    "        \n",
    "\n",
    "#         image.data=image.data-image.data.min()\n",
    "#         image.data/=(image.data.max()-image.data.min())\n",
    "#         grads=image.data.squeeze(0)\n",
    "#         grads.transpose_(0,1) #don't use permute.\n",
    "#         grads.transpose_(1,2)\n",
    "#         gradients.append(grads)\n",
    "\n",
    "\n",
    "\n",
    "\n",
    "    fig=plt.figure(figsize=(30,30),facecolor='black')    \n",
    "    for i in range(int(np.sqrt(num_filters))*int(np.sqrt(num_filters))):\n",
    "        a=fig.add_subplot(np.sqrt(num_filters),np.sqrt(num_filters), i+1)\n",
    "        a.imshow(gradients[i])\n",
    "        a.axis('off')\n",
    "        plt.subplots_adjust(hspace=0.01,wspace=0.01,left=0.01,bottom=0.01)\n",
    "   # plt.savefig('/Users/silver/Desktop/deconvs/Deconvolution.jpg',facecolor=fig.get_facecolor(),bbox_inches='tight')"
   ]
  },
  {
   "cell_type": "code",
   "execution_count": 49,
   "metadata": {},
   "outputs": [
    {
     "name": "stdout",
     "output_type": "stream",
     "text": [
      "<class 'torch.Tensor'>\n"
     ]
    },
    {
     "name": "stderr",
     "output_type": "stream",
     "text": [
      "/Users/silver/anaconda3/lib/python3.6/site-packages/torchvision-0.2.1-py3.6.egg/torchvision/transforms/transforms.py:188: UserWarning: The use of the transforms.Scale transform is deprecated, please use transforms.Resize instead.\n"
     ]
    },
    {
     "data": {
      "image/png": "[encoded data removed]",
      "text/plain": [
       "<matplotlib.figure.Figure at 0x1198d24e0>"
      ]
     },
     "metadata": {},
     "output_type": "display_data"
    }
   ],
   "source": [
    "# Deconvolution visualization of a cat.\n",
    "\n",
    "cat=load_image(\"/Users/silver/Desktop/ucla_medical_imaging_informatics/dl4health_notebooks/deconvolution/9.png\")\n",
    "x=preprocess_image(cat)\n",
    "\n",
    "#print(cat)"
   ]
  },
  {
   "cell_type": "code",
   "execution_count": 50,
   "metadata": {},
   "outputs": [
    {
     "name": "stderr",
     "output_type": "stream",
     "text": [
      "\r",
      "                                                                               \r",
      "\r",
      "N/A% (0 of 10) |                         | Elapsed Time: 0:00:00 ETA:  --:--:--"
     ]
    },
    {
     "name": "stdout",
     "output_type": "stream",
     "text": [
      "None\n",
      "tensor(1.4657)\n",
      "tensor(1.4657)\n",
      "tensor(1.4657)\n",
      "tensor(1.4657)\n",
      "tensor(1.4657)\n",
      "tensor(1.4657)\n",
      "tensor(1.4657)\n",
      "tensor(1.4657)\n",
      "tensor(1.4657)\n",
      "tensor(1.4657)\n"
     ]
    },
    {
     "data": {
      "image/png": "[encoded data removed]",
      "text/plain": [
       "<matplotlib.figure.Figure at 0x1198d2080>"
      ]
     },
     "metadata": {},
     "output_type": "display_data"
    }
   ],
   "source": [
    "deconvolution(x,1,10)"
   ]
  },
  {
   "cell_type": "code",
   "execution_count": 14,
   "metadata": {},
   "outputs": [
    {
     "name": "stdout",
     "output_type": "stream",
     "text": [
      "tensor([[ 2.8888e-02,  1.6505e+00, -1.1508e+00,  ...,  3.0336e-01,\n",
      "         -9.3305e-01, -7.5564e-01],\n",
      "        [ 1.1305e+00,  2.3326e+00,  3.4712e-01,  ...,  1.9613e+00,\n",
      "          4.9508e-01,  5.4049e-01],\n",
      "        [-1.0859e+00, -9.5926e-01, -1.3680e-01,  ...,  3.5065e-01,\n",
      "         -7.0243e-01, -1.8839e-02],\n",
      "        ...,\n",
      "        [ 7.5775e-01, -2.2967e-01, -1.8979e+00,  ..., -1.3606e+00,\n",
      "         -3.8524e-01, -4.6916e-01],\n",
      "        [ 9.2725e-01, -7.8432e-01, -1.5025e+00,  ...,  1.2271e+00,\n",
      "          7.7384e-01, -1.1605e+00],\n",
      "        [ 9.4443e-01, -1.9733e-02, -1.6425e+00,  ..., -7.3887e-01,\n",
      "          4.2953e-01, -2.2666e-02]])\n"
     ]
    }
   ],
   "source": [
    "dtype = torch.FloatTensor\n",
    "N, D_in, H, D_out = 64, 1000, 100, 10\n",
    "\n",
    "x = Variable(torch.randn(N, D_in).type(dtype), requires_grad=False)\n",
    "y = Variable(torch.randn(N, D_out).type(dtype), requires_grad=False)\n",
    "\n",
    "print(x.data)\n",
    "\n",
    "# w1 = Variable(torch.randn(D_in, H).type(dtype), requires_grad=True)\n",
    "# w2 = Variable(torch.randn(H, D_out).type(dtype), requires_grad=True)\n",
    "\n",
    "# learning_rate = 1e-6\n",
    "# for t in range(2):\n",
    "#     y_pred = x.mm(w1).clamp(min=0).mm(w2)\n",
    "\n",
    "#     loss = (y_pred - y).pow(2).sum()\n",
    "#     print(t, loss.data[0])\n",
    "\n",
    "#     loss.backward()\n",
    "\n",
    "#     w1.data -= learning_rate * w1.grad.data\n",
    "#     w2.data -= learning_rate * w2.grad.data\n",
    "\n",
    "#     w1.grad.data.zero_()\n",
    "#     w2.grad.data.zero_()\n",
    "    \n",
    "#print(type(w2))"
   ]
  },
  {
   "cell_type": "code",
   "execution_count": null,
   "metadata": {},
   "outputs": [],
   "source": []
  }
 ],
 "metadata": {
  "kernelspec": {
   "display_name": "Python 3",
   "language": "python",
   "name": "python3"
  },
  "language_info": {
   "codemirror_mode": {
    "name": "ipython",
    "version": 3
   },
   "file_extension": ".py",
   "mimetype": "text/x-python",
   "name": "python",
   "nbconvert_exporter": "python",
   "pygments_lexer": "ipython3",
   "version": "3.6.4"
  }
 },
 "nbformat": 4,
 "nbformat_minor": 2
}
