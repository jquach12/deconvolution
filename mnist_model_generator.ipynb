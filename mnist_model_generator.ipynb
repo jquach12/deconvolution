{
 "cells": [
  {
   "cell_type": "code",
   "execution_count": 1,
   "metadata": {},
   "outputs": [],
   "source": [
    "%matplotlib inline"
   ]
  },
  {
   "cell_type": "code",
   "execution_count": 2,
   "metadata": {},
   "outputs": [],
   "source": [
    "import torch\n",
    "import torchvision\n",
    "import torchvision.transforms as transforms"
   ]
  },
  {
   "cell_type": "markdown",
   "metadata": {},
   "source": [
    "The output of torchvision datasets are PILImage images of range [0, 1].\n",
    "We transform them to Tensors of normalized range [-1, 1].\n",
    "\n"
   ]
  },
  {
   "cell_type": "code",
   "execution_count": 3,
   "metadata": {},
   "outputs": [],
   "source": [
    "transform = transforms.Compose(\n",
    "    [transforms.ToTensor(),\n",
    "     transforms.Normalize((0.5, 0.5, 0.5), (0.5, 0.5, 0.5))])\n",
    "\n",
    "trainset = torchvision.datasets.MNIST(root='./data', train=True,\n",
    "                                        download=True, transform=transform)\n",
    "trainloader = torch.utils.data.DataLoader(trainset, batch_size=4,\n",
    "                                          shuffle=True, num_workers=2)\n",
    "\n",
    "testset = torchvision.datasets.MNIST(root='./data', train=False,\n",
    "                                       download=True, transform=transform)\n",
    "testloader = torch.utils.data.DataLoader(testset, batch_size=4,\n",
    "                                         shuffle=False, num_workers=2)\n",
    "\n",
    "classes = [i for i in range(10)]"
   ]
  },
  {
   "cell_type": "markdown",
   "metadata": {},
   "source": [
    "Let us show some of the training images, for fun.\n",
    "\n"
   ]
  },
  {
   "cell_type": "code",
   "execution_count": 4,
   "metadata": {},
   "outputs": [
    {
     "name": "stdout",
     "output_type": "stream",
     "text": [
      "    7     5     3     7\n"
     ]
    },
    {
     "data": {
      "image/png": "[encoded data removed]",
      "text/plain": [
       "<matplotlib.figure.Figure at 0x11b4185c0>"
      ]
     },
     "metadata": {},
     "output_type": "display_data"
    }
   ],
   "source": [
    "import matplotlib.pyplot as plt\n",
    "import numpy as np\n",
    "\n",
    "# functions to show an image\n",
    "\n",
    "\n",
    "def imshow(img):\n",
    "    img = img / 2 + 0.5     # unnormalize\n",
    "    npimg = img.numpy()\n",
    "    plt.imshow(np.transpose(npimg, (1, 2, 0)))\n",
    "\n",
    "\n",
    "# get some random training images\n",
    "dataiter = iter(trainloader)\n",
    "images, labels = dataiter.next()\n",
    "\n",
    "# show images\n",
    "imshow(torchvision.utils.make_grid(images))\n",
    "# print labels\n",
    "print(' '.join('%5s' % classes[labels[j]] for j in range(4)))"
   ]
  },
  {
   "cell_type": "markdown",
   "metadata": {},
   "source": [
    "2. Define a Convolution Neural Network\n",
    "^^^^^^^^^^^^^^^^^^^^^^^^^^^^^^^^^^^^^^\n",
    "Copy the neural network from the Neural Networks section before and modify it to\n",
    "take 3-channel images (instead of 1-channel images as it was defined).\n",
    "\n"
   ]
  },
  {
   "cell_type": "code",
   "execution_count": 5,
   "metadata": {},
   "outputs": [],
   "source": [
    "import torch.nn as nn\n",
    "import torch.nn.functional as F\n",
    "\n",
    "#from https://github.com/pytorch/examples/blob/master/mnist/main.py\n",
    "class Net(nn.Module):\n",
    "    def __init__(self):\n",
    "        super(Net, self).__init__()\n",
    "        self.conv1 = nn.Conv2d(1, 10, kernel_size=5)\n",
    "        self.conv2 = nn.Conv2d(10, 20, kernel_size=5)\n",
    "        self.conv2_drop = nn.Dropout2d()\n",
    "        self.fc1 = nn.Linear(320, 50)\n",
    "        self.fc2 = nn.Linear(50, 10)\n",
    "\n",
    "    def forward(self, x):\n",
    "        x = F.relu(F.max_pool2d(self.conv1(x), 2))\n",
    "        x = F.relu(F.max_pool2d(self.conv2_drop(self.conv2(x)), 2))\n",
    "        x = x.view(-1, 320)\n",
    "        x = F.relu(self.fc1(x))\n",
    "        x = F.dropout(x, training=self.training)\n",
    "        x = self.fc2(x)\n",
    "        return F.log_softmax(x, dim=1)\n",
    "\n",
    "\n",
    "net = Net()"
   ]
  },
  {
   "cell_type": "code",
   "execution_count": 6,
   "metadata": {},
   "outputs": [],
   "source": [
    "import torch.optim as optim\n",
    "\n",
    "criterion = nn.CrossEntropyLoss()\n",
    "optimizer = optim.SGD(net.parameters(), lr=0.001, momentum=0.9)"
   ]
  },
  {
   "cell_type": "markdown",
   "metadata": {},
   "source": [
    "4. Train the network\n",
    "^^^^^^^^^^^^^^^^^^^^\n",
    "\n",
    "This is when things start to get interesting.\n",
    "We simply have to loop over our data iterator, and feed the inputs to the\n",
    "network and optimize.\n",
    "\n"
   ]
  },
  {
   "cell_type": "code",
   "execution_count": 7,
   "metadata": {},
   "outputs": [
    {
     "name": "stdout",
     "output_type": "stream",
     "text": [
      "[1,  2000] loss: 1.266\n",
      "[1,  4000] loss: 0.558\n",
      "[1,  6000] loss: 0.442\n",
      "[1,  8000] loss: 0.390\n",
      "[1, 10000] loss: 0.342\n",
      "[1, 12000] loss: 0.330\n",
      "[1, 14000] loss: 0.313\n",
      "[2,  2000] loss: 0.281\n",
      "[2,  4000] loss: 0.277\n",
      "[2,  6000] loss: 0.260\n",
      "[2,  8000] loss: 0.253\n",
      "[2, 10000] loss: 0.246\n",
      "[2, 12000] loss: 0.218\n",
      "[2, 14000] loss: 0.208\n",
      "[3,  2000] loss: 0.229\n",
      "[3,  4000] loss: 0.204\n",
      "[3,  6000] loss: 0.206\n",
      "[3,  8000] loss: 0.204\n",
      "[3, 10000] loss: 0.216\n",
      "[3, 12000] loss: 0.200\n",
      "[3, 14000] loss: 0.206\n",
      "[4,  2000] loss: 0.185\n",
      "[4,  4000] loss: 0.194\n",
      "[4,  6000] loss: 0.206\n",
      "[4,  8000] loss: 0.185\n",
      "[4, 10000] loss: 0.178\n",
      "[4, 12000] loss: 0.198\n",
      "[4, 14000] loss: 0.195\n",
      "[5,  2000] loss: 0.172\n",
      "[5,  4000] loss: 0.187\n",
      "[5,  6000] loss: 0.190\n",
      "[5,  8000] loss: 0.188\n",
      "[5, 10000] loss: 0.161\n",
      "[5, 12000] loss: 0.174\n",
      "[5, 14000] loss: 0.175\n",
      "[6,  2000] loss: 0.165\n",
      "[6,  4000] loss: 0.184\n",
      "[6,  6000] loss: 0.164\n",
      "[6,  8000] loss: 0.168\n",
      "[6, 10000] loss: 0.166\n",
      "[6, 12000] loss: 0.177\n",
      "[6, 14000] loss: 0.149\n",
      "[7,  2000] loss: 0.156\n",
      "[7,  4000] loss: 0.176\n",
      "[7,  6000] loss: 0.172\n",
      "[7,  8000] loss: 0.160\n",
      "[7, 10000] loss: 0.177\n",
      "[7, 12000] loss: 0.162\n",
      "[7, 14000] loss: 0.148\n",
      "[8,  2000] loss: 0.164\n",
      "[8,  4000] loss: 0.171\n",
      "[8,  6000] loss: 0.148\n",
      "[8,  8000] loss: 0.153\n",
      "[8, 10000] loss: 0.169\n",
      "[8, 12000] loss: 0.162\n",
      "[8, 14000] loss: 0.150\n",
      "[9,  2000] loss: 0.153\n",
      "[9,  4000] loss: 0.151\n",
      "[9,  6000] loss: 0.137\n",
      "[9,  8000] loss: 0.147\n",
      "[9, 10000] loss: 0.157\n",
      "[9, 12000] loss: 0.138\n",
      "[9, 14000] loss: 0.152\n",
      "[10,  2000] loss: 0.147\n",
      "[10,  4000] loss: 0.152\n",
      "[10,  6000] loss: 0.150\n",
      "[10,  8000] loss: 0.154\n",
      "[10, 10000] loss: 0.161\n",
      "[10, 12000] loss: 0.152\n",
      "[10, 14000] loss: 0.145\n",
      "[11,  2000] loss: 0.152\n",
      "[11,  4000] loss: 0.155\n",
      "[11,  6000] loss: 0.141\n",
      "[11,  8000] loss: 0.143\n",
      "[11, 10000] loss: 0.151\n",
      "[11, 12000] loss: 0.139\n",
      "[11, 14000] loss: 0.160\n",
      "[12,  2000] loss: 0.153\n",
      "[12,  4000] loss: 0.140\n",
      "[12,  6000] loss: 0.131\n",
      "[12,  8000] loss: 0.137\n",
      "[12, 10000] loss: 0.140\n",
      "[12, 12000] loss: 0.133\n",
      "[12, 14000] loss: 0.139\n",
      "[13,  2000] loss: 0.130\n",
      "[13,  4000] loss: 0.141\n",
      "[13,  6000] loss: 0.141\n",
      "[13,  8000] loss: 0.142\n",
      "[13, 10000] loss: 0.143\n",
      "[13, 12000] loss: 0.148\n",
      "[13, 14000] loss: 0.131\n",
      "[14,  2000] loss: 0.142\n",
      "[14,  4000] loss: 0.131\n",
      "[14,  6000] loss: 0.143\n",
      "[14,  8000] loss: 0.151\n",
      "[14, 10000] loss: 0.136\n",
      "[14, 12000] loss: 0.136\n",
      "[14, 14000] loss: 0.131\n",
      "[15,  2000] loss: 0.141\n",
      "[15,  4000] loss: 0.139\n",
      "[15,  6000] loss: 0.133\n",
      "[15,  8000] loss: 0.130\n",
      "[15, 10000] loss: 0.148\n",
      "[15, 12000] loss: 0.145\n",
      "[15, 14000] loss: 0.136\n",
      "[16,  2000] loss: 0.129\n",
      "[16,  4000] loss: 0.146\n",
      "[16,  6000] loss: 0.135\n",
      "[16,  8000] loss: 0.139\n",
      "[16, 10000] loss: 0.123\n",
      "[16, 12000] loss: 0.149\n",
      "[16, 14000] loss: 0.140\n",
      "[17,  2000] loss: 0.137\n",
      "[17,  4000] loss: 0.123\n",
      "[17,  6000] loss: 0.133\n",
      "[17,  8000] loss: 0.143\n",
      "[17, 10000] loss: 0.141\n",
      "[17, 12000] loss: 0.134\n",
      "[17, 14000] loss: 0.144\n",
      "[18,  2000] loss: 0.121\n",
      "[18,  4000] loss: 0.134\n",
      "[18,  6000] loss: 0.140\n",
      "[18,  8000] loss: 0.132\n",
      "[18, 10000] loss: 0.132\n",
      "[18, 12000] loss: 0.137\n",
      "[18, 14000] loss: 0.116\n",
      "[19,  2000] loss: 0.125\n",
      "[19,  4000] loss: 0.142\n",
      "[19,  6000] loss: 0.126\n",
      "[19,  8000] loss: 0.137\n",
      "[19, 10000] loss: 0.145\n",
      "[19, 12000] loss: 0.119\n",
      "[19, 14000] loss: 0.132\n",
      "[20,  2000] loss: 0.142\n",
      "[20,  4000] loss: 0.129\n",
      "[20,  6000] loss: 0.130\n",
      "[20,  8000] loss: 0.124\n",
      "[20, 10000] loss: 0.130\n",
      "[20, 12000] loss: 0.129\n",
      "[20, 14000] loss: 0.123\n",
      "[21,  2000] loss: 0.140\n",
      "[21,  4000] loss: 0.126\n",
      "[21,  6000] loss: 0.130\n",
      "[21,  8000] loss: 0.128\n",
      "[21, 10000] loss: 0.129\n",
      "[21, 12000] loss: 0.134\n",
      "[21, 14000] loss: 0.126\n",
      "[22,  2000] loss: 0.135\n",
      "[22,  4000] loss: 0.128\n",
      "[22,  6000] loss: 0.128\n",
      "[22,  8000] loss: 0.117\n",
      "[22, 10000] loss: 0.117\n",
      "[22, 12000] loss: 0.114\n",
      "[22, 14000] loss: 0.145\n",
      "[23,  2000] loss: 0.111\n",
      "[23,  4000] loss: 0.131\n",
      "[23,  6000] loss: 0.132\n",
      "[23,  8000] loss: 0.125\n",
      "[23, 10000] loss: 0.137\n",
      "[23, 12000] loss: 0.130\n",
      "[23, 14000] loss: 0.125\n",
      "[24,  2000] loss: 0.118\n",
      "[24,  4000] loss: 0.128\n",
      "[24,  6000] loss: 0.115\n",
      "[24,  8000] loss: 0.131\n",
      "[24, 10000] loss: 0.131\n",
      "[24, 12000] loss: 0.137\n",
      "[24, 14000] loss: 0.115\n",
      "[25,  2000] loss: 0.122\n",
      "[25,  4000] loss: 0.113\n",
      "[25,  6000] loss: 0.115\n",
      "[25,  8000] loss: 0.123\n",
      "[25, 10000] loss: 0.119\n",
      "[25, 12000] loss: 0.129\n",
      "[25, 14000] loss: 0.138\n",
      "[26,  2000] loss: 0.130\n",
      "[26,  4000] loss: 0.118\n",
      "[26,  6000] loss: 0.124\n",
      "[26,  8000] loss: 0.126\n",
      "[26, 10000] loss: 0.129\n",
      "[26, 12000] loss: 0.136\n",
      "[26, 14000] loss: 0.129\n",
      "[27,  2000] loss: 0.115\n",
      "[27,  4000] loss: 0.121\n",
      "[27,  6000] loss: 0.125\n",
      "[27,  8000] loss: 0.134\n",
      "[27, 10000] loss: 0.118\n",
      "[27, 12000] loss: 0.133\n",
      "[27, 14000] loss: 0.121\n",
      "[28,  2000] loss: 0.128\n",
      "[28,  4000] loss: 0.118\n",
      "[28,  6000] loss: 0.121\n",
      "[28,  8000] loss: 0.126\n",
      "[28, 10000] loss: 0.121\n",
      "[28, 12000] loss: 0.136\n",
      "[28, 14000] loss: 0.118\n",
      "[29,  2000] loss: 0.124\n",
      "[29,  4000] loss: 0.106\n",
      "[29,  6000] loss: 0.125\n",
      "[29,  8000] loss: 0.123\n",
      "[29, 10000] loss: 0.121\n",
      "[29, 12000] loss: 0.124\n",
      "[29, 14000] loss: 0.126\n",
      "[30,  2000] loss: 0.129\n",
      "[30,  4000] loss: 0.120\n",
      "[30,  6000] loss: 0.124\n",
      "[30,  8000] loss: 0.127\n",
      "[30, 10000] loss: 0.125\n",
      "[30, 12000] loss: 0.114\n",
      "[30, 14000] loss: 0.130\n",
      "[31,  2000] loss: 0.102\n",
      "[31,  4000] loss: 0.134\n",
      "[31,  6000] loss: 0.122\n",
      "[31,  8000] loss: 0.124\n",
      "[31, 10000] loss: 0.125\n",
      "[31, 12000] loss: 0.126\n",
      "[31, 14000] loss: 0.121\n",
      "[32,  2000] loss: 0.122\n",
      "[32,  4000] loss: 0.119\n",
      "[32,  6000] loss: 0.121\n",
      "[32,  8000] loss: 0.127\n",
      "[32, 10000] loss: 0.122\n",
      "[32, 12000] loss: 0.118\n",
      "[32, 14000] loss: 0.110\n",
      "[33,  2000] loss: 0.116\n",
      "[33,  4000] loss: 0.119\n",
      "[33,  6000] loss: 0.110\n",
      "[33,  8000] loss: 0.113\n",
      "[33, 10000] loss: 0.117\n",
      "[33, 12000] loss: 0.115\n",
      "[33, 14000] loss: 0.114\n",
      "[34,  2000] loss: 0.115\n",
      "[34,  4000] loss: 0.122\n",
      "[34,  6000] loss: 0.123\n",
      "[34,  8000] loss: 0.120\n",
      "[34, 10000] loss: 0.136\n",
      "[34, 12000] loss: 0.122\n",
      "[34, 14000] loss: 0.122\n",
      "[35,  2000] loss: 0.113\n",
      "[35,  4000] loss: 0.119\n",
      "[35,  6000] loss: 0.120\n",
      "[35,  8000] loss: 0.125\n",
      "[35, 10000] loss: 0.127\n",
      "[35, 12000] loss: 0.116\n",
      "[35, 14000] loss: 0.117\n",
      "[36,  2000] loss: 0.109\n",
      "[36,  4000] loss: 0.112\n",
      "[36,  6000] loss: 0.132\n",
      "[36,  8000] loss: 0.108\n",
      "[36, 10000] loss: 0.112\n",
      "[36, 12000] loss: 0.123\n",
      "[36, 14000] loss: 0.133\n",
      "[37,  2000] loss: 0.119\n",
      "[37,  4000] loss: 0.114\n",
      "[37,  6000] loss: 0.112\n",
      "[37,  8000] loss: 0.126\n",
      "[37, 10000] loss: 0.113\n",
      "[37, 12000] loss: 0.128\n",
      "[37, 14000] loss: 0.125\n",
      "[38,  2000] loss: 0.112\n",
      "[38,  4000] loss: 0.111\n",
      "[38,  6000] loss: 0.112\n",
      "[38,  8000] loss: 0.121\n",
      "[38, 10000] loss: 0.128\n",
      "[38, 12000] loss: 0.124\n",
      "[38, 14000] loss: 0.105\n",
      "[39,  2000] loss: 0.119\n",
      "[39,  4000] loss: 0.107\n",
      "[39,  6000] loss: 0.126\n",
      "[39,  8000] loss: 0.108\n",
      "[39, 10000] loss: 0.128\n",
      "[39, 12000] loss: 0.118\n",
      "[39, 14000] loss: 0.113\n",
      "[40,  2000] loss: 0.122\n",
      "[40,  4000] loss: 0.106\n",
      "[40,  6000] loss: 0.105\n",
      "[40,  8000] loss: 0.129\n",
      "[40, 10000] loss: 0.112\n",
      "[40, 12000] loss: 0.128\n",
      "[40, 14000] loss: 0.122\n",
      "[41,  2000] loss: 0.119\n",
      "[41,  4000] loss: 0.114\n",
      "[41,  6000] loss: 0.110\n",
      "[41,  8000] loss: 0.123\n",
      "[41, 10000] loss: 0.121\n",
      "[41, 12000] loss: 0.110\n",
      "[41, 14000] loss: 0.132\n",
      "[42,  2000] loss: 0.108\n",
      "[42,  4000] loss: 0.115\n",
      "[42,  6000] loss: 0.109\n",
      "[42,  8000] loss: 0.109\n",
      "[42, 10000] loss: 0.132\n",
      "[42, 12000] loss: 0.111\n",
      "[42, 14000] loss: 0.126\n",
      "[43,  2000] loss: 0.104\n",
      "[43,  4000] loss: 0.117\n",
      "[43,  6000] loss: 0.121\n",
      "[43,  8000] loss: 0.117\n",
      "[43, 10000] loss: 0.125\n",
      "[43, 12000] loss: 0.115\n",
      "[43, 14000] loss: 0.115\n",
      "[44,  2000] loss: 0.118\n",
      "[44,  4000] loss: 0.121\n",
      "[44,  6000] loss: 0.111\n",
      "[44,  8000] loss: 0.106\n",
      "[44, 10000] loss: 0.121\n",
      "[44, 12000] loss: 0.110\n",
      "[44, 14000] loss: 0.109\n",
      "[45,  2000] loss: 0.128\n",
      "[45,  4000] loss: 0.126\n",
      "[45,  6000] loss: 0.114\n",
      "[45,  8000] loss: 0.110\n",
      "[45, 10000] loss: 0.124\n",
      "[45, 12000] loss: 0.127\n",
      "[45, 14000] loss: 0.113\n",
      "[46,  2000] loss: 0.108\n",
      "[46,  4000] loss: 0.128\n",
      "[46,  6000] loss: 0.122\n",
      "[46,  8000] loss: 0.111\n",
      "[46, 10000] loss: 0.108\n",
      "[46, 12000] loss: 0.116\n",
      "[46, 14000] loss: 0.122\n",
      "[47,  2000] loss: 0.107\n",
      "[47,  4000] loss: 0.124\n",
      "[47,  6000] loss: 0.103\n",
      "[47,  8000] loss: 0.123\n",
      "[47, 10000] loss: 0.123\n",
      "[47, 12000] loss: 0.100\n",
      "[47, 14000] loss: 0.112\n",
      "[48,  2000] loss: 0.101\n",
      "[48,  4000] loss: 0.112\n",
      "[48,  6000] loss: 0.117\n",
      "[48,  8000] loss: 0.115\n",
      "[48, 10000] loss: 0.110\n",
      "[48, 12000] loss: 0.117\n",
      "[48, 14000] loss: 0.113\n",
      "[49,  2000] loss: 0.109\n",
      "[49,  4000] loss: 0.106\n",
      "[49,  6000] loss: 0.108\n",
      "[49,  8000] loss: 0.108\n",
      "[49, 10000] loss: 0.107\n",
      "[49, 12000] loss: 0.112\n",
      "[49, 14000] loss: 0.116\n",
      "[50,  2000] loss: 0.132\n"
     ]
    },
    {
     "name": "stdout",
     "output_type": "stream",
     "text": [
      "[50,  4000] loss: 0.106\n",
      "[50,  6000] loss: 0.103\n",
      "[50,  8000] loss: 0.121\n",
      "[50, 10000] loss: 0.112\n",
      "[50, 12000] loss: 0.102\n",
      "[50, 14000] loss: 0.125\n",
      "Finished Training\n"
     ]
    }
   ],
   "source": [
    "losses = []\n",
    "\n",
    "for epoch in range(50):  # loop over the dataset multiple times\n",
    "\n",
    "    running_loss = 0.0\n",
    "    for i, data in enumerate(trainloader, 0):\n",
    "        # get the inputs\n",
    "        inputs, labels = data\n",
    "\n",
    "        # zero the parameter gradients\n",
    "        optimizer.zero_grad()\n",
    "\n",
    "        # forward + backward + optimize\n",
    "        outputs = net(inputs)\n",
    "        loss = criterion(outputs, labels)\n",
    "        loss.backward()\n",
    "        optimizer.step()\n",
    "\n",
    "        # print statistics\n",
    "        running_loss += loss.item()\n",
    "        if i % 2000 == 1999:    # print every 2000 mini-batches\n",
    "            print('[%d, %5d] loss: %.3f' %\n",
    "                  (epoch + 1, i + 1, running_loss / 2000))\n",
    "            \n",
    "            losses.append(running_loss / 2000)\n",
    "            running_loss = 0.0\n",
    "\n",
    "print('Finished Training')"
   ]
  },
  {
   "cell_type": "code",
   "execution_count": 29,
   "metadata": {},
   "outputs": [
    {
     "data": {
      "image/png": "[encoded data removed]",
      "text/plain": [
       "<matplotlib.figure.Figure at 0x122bf6320>"
      ]
     },
     "metadata": {},
     "output_type": "display_data"
    }
   ],
   "source": [
    "plt.plot(losses)\n",
    "plt.title(\"Losses over 50 Epochs\")\n",
    "plt.ylabel('Loss')\n",
    "plt.show()"
   ]
  },
  {
   "cell_type": "markdown",
   "metadata": {},
   "source": [
    "5. Test the network on the test data\n",
    "^^^^^^^^^^^^^^^^^^^^^^^^^^^^^^^^^^^^\n",
    "\n",
    "We have trained the network for 2 passes over the training dataset.\n",
    "But we need to check if the network has learnt anything at all.\n",
    "\n",
    "We will check this by predicting the class label that the neural network\n",
    "outputs, and checking it against the ground-truth. If the prediction is\n",
    "correct, we add the sample to the list of correct predictions.\n",
    "\n",
    "Okay, first step. Let us display an image from the test set to get familiar.\n",
    "\n"
   ]
  },
  {
   "cell_type": "code",
   "execution_count": 30,
   "metadata": {},
   "outputs": [
    {
     "name": "stdout",
     "output_type": "stream",
     "text": [
      "GroundTruth:      7     2     1     0\n"
     ]
    },
    {
     "data": {
      "image/png": "[encoded data removed]",
      "text/plain": [
       "<matplotlib.figure.Figure at 0x11b41b080>"
      ]
     },
     "metadata": {},
     "output_type": "display_data"
    },
    {
     "name": "stderr",
     "output_type": "stream",
     "text": [
      "Process Process-123:\n",
      "Process Process-124:\n",
      "Traceback (most recent call last):\n",
      "Traceback (most recent call last):\n",
      "  File \"/Users/silver/anaconda3/lib/python3.6/multiprocessing/process.py\", line 258, in _bootstrap\n",
      "    self.run()\n",
      "  File \"/Users/silver/anaconda3/lib/python3.6/multiprocessing/process.py\", line 258, in _bootstrap\n",
      "    self.run()\n",
      "  File \"/Users/silver/anaconda3/lib/python3.6/multiprocessing/process.py\", line 93, in run\n",
      "    self._target(*self._args, **self._kwargs)\n",
      "  File \"/Users/silver/anaconda3/lib/python3.6/multiprocessing/process.py\", line 93, in run\n",
      "    self._target(*self._args, **self._kwargs)\n",
      "  File \"/Users/silver/anaconda3/lib/python3.6/site-packages/torch/utils/data/dataloader.py\", line 52, in _worker_loop\n",
      "    r = index_queue.get()\n",
      "  File \"/Users/silver/anaconda3/lib/python3.6/multiprocessing/queues.py\", line 335, in get\n",
      "    res = self._reader.recv_bytes()\n",
      "  File \"/Users/silver/anaconda3/lib/python3.6/site-packages/torch/utils/data/dataloader.py\", line 52, in _worker_loop\n",
      "    r = index_queue.get()\n",
      "  File \"/Users/silver/anaconda3/lib/python3.6/multiprocessing/connection.py\", line 216, in recv_bytes\n",
      "    buf = self._recv_bytes(maxlength)\n",
      "  File \"/Users/silver/anaconda3/lib/python3.6/multiprocessing/queues.py\", line 335, in get\n",
      "    res = self._reader.recv_bytes()\n",
      "  File \"/Users/silver/anaconda3/lib/python3.6/multiprocessing/connection.py\", line 407, in _recv_bytes\n",
      "    buf = self._recv(4)\n",
      "  File \"/Users/silver/anaconda3/lib/python3.6/multiprocessing/connection.py\", line 379, in _recv\n",
      "    chunk = read(handle, remaining)\n",
      "  File \"/Users/silver/anaconda3/lib/python3.6/multiprocessing/connection.py\", line 216, in recv_bytes\n",
      "    buf = self._recv_bytes(maxlength)\n",
      "  File \"/Users/silver/anaconda3/lib/python3.6/multiprocessing/connection.py\", line 407, in _recv_bytes\n",
      "    buf = self._recv(4)\n",
      "KeyboardInterrupt\n",
      "  File \"/Users/silver/anaconda3/lib/python3.6/multiprocessing/connection.py\", line 379, in _recv\n",
      "    chunk = read(handle, remaining)\n",
      "KeyboardInterrupt\n"
     ]
    }
   ],
   "source": [
    "dataiter = iter(testloader)\n",
    "images, labels = dataiter.next()\n",
    "\n",
    "# print images\n",
    "imshow(torchvision.utils.make_grid(images))\n",
    "print('GroundTruth: ', ' '.join('%5s' % classes[labels[j]] for j in range(4)))"
   ]
  },
  {
   "cell_type": "markdown",
   "metadata": {},
   "source": [
    "Okay, now let us see what the neural network thinks these examples above are:\n",
    "\n"
   ]
  },
  {
   "cell_type": "code",
   "execution_count": 31,
   "metadata": {},
   "outputs": [],
   "source": [
    "outputs = net(images)"
   ]
  },
  {
   "cell_type": "markdown",
   "metadata": {},
   "source": [
    "The outputs are energies for the 10 classes.\n",
    "Higher the energy for a class, the more the network\n",
    "thinks that the image is of the particular class.\n",
    "So, let's get the index of the highest energy:\n",
    "\n"
   ]
  },
  {
   "cell_type": "code",
   "execution_count": 32,
   "metadata": {},
   "outputs": [
    {
     "name": "stdout",
     "output_type": "stream",
     "text": [
      "Predicted:      7     2     1     0\n"
     ]
    }
   ],
   "source": [
    "_, predicted = torch.max(outputs, 1)\n",
    "\n",
    "print('Predicted: ', ' '.join('%5s' % classes[predicted[j]]\n",
    "                              for j in range(4)))"
   ]
  },
  {
   "cell_type": "code",
   "execution_count": 33,
   "metadata": {},
   "outputs": [
    {
     "name": "stdout",
     "output_type": "stream",
     "text": [
      "Accuracy of the network on the 10000 test images: 96 %\n"
     ]
    }
   ],
   "source": [
    "correct = 0\n",
    "total = 0\n",
    "with torch.no_grad():\n",
    "    for data in testloader:\n",
    "        images, labels = data\n",
    "        outputs = net(images)\n",
    "        _, predicted = torch.max(outputs.data, 1)\n",
    "        total += labels.size(0)\n",
    "        correct += (predicted == labels).sum().item()\n",
    "\n",
    "print('Accuracy of the network on the 10000 test images: %d %%' % (\n",
    "    100 * correct / total))"
   ]
  },
  {
   "cell_type": "code",
   "execution_count": 34,
   "metadata": {},
   "outputs": [
    {
     "name": "stdout",
     "output_type": "stream",
     "text": [
      "Accuracy of     0 : 98 %\n",
      "Accuracy of     1 : 98 %\n",
      "Accuracy of     2 : 96 %\n",
      "Accuracy of     3 : 94 %\n",
      "Accuracy of     4 : 95 %\n",
      "Accuracy of     5 : 98 %\n",
      "Accuracy of     6 : 96 %\n",
      "Accuracy of     7 : 94 %\n",
      "Accuracy of     8 : 96 %\n",
      "Accuracy of     9 : 95 %\n"
     ]
    }
   ],
   "source": [
    "class_correct = list(0. for i in range(10))\n",
    "class_total = list(0. for i in range(10))\n",
    "with torch.no_grad():\n",
    "    for data in testloader:\n",
    "        images, labels = data\n",
    "        outputs = net(images)\n",
    "        _, predicted = torch.max(outputs, 1)\n",
    "        c = (predicted == labels).squeeze()\n",
    "        for i in range(4):\n",
    "            label = labels[i]\n",
    "            class_correct[label] += c[i].item()\n",
    "            class_total[label] += 1\n",
    "\n",
    "\n",
    "for i in range(10):\n",
    "    print('Accuracy of %5s : %2d %%' % (\n",
    "        classes[i], 100 * class_correct[i] / class_total[i]))"
   ]
  },
  {
   "cell_type": "code",
   "execution_count": 35,
   "metadata": {},
   "outputs": [
    {
     "name": "stderr",
     "output_type": "stream",
     "text": [
      "/Users/silver/anaconda3/lib/python3.6/site-packages/torch/serialization.py:193: UserWarning: Couldn't retrieve source code for container of type Net. It won't be checked for correctness upon loading.\n",
      "  \"type \" + obj.__name__ + \". It won't be checked \"\n"
     ]
    }
   ],
   "source": [
    "#save the model\n",
    "torch.save(net, 'mnist_model.pt')"
   ]
  },
  {
   "cell_type": "code",
   "execution_count": 36,
   "metadata": {},
   "outputs": [],
   "source": [
    "model = torch.load('mnist_model.pt')"
   ]
  },
  {
   "cell_type": "code",
   "execution_count": 39,
   "metadata": {},
   "outputs": [
    {
     "name": "stdout",
     "output_type": "stream",
     "text": [
      "[1,  2000] loss: 0.132\n",
      "[2,  2000] loss: 0.130\n",
      "Finished Training\n"
     ]
    }
   ],
   "source": [
    "test_losses = []\n",
    "for epoch in range(2):  # loop over the dataset multiple times\n",
    "\n",
    "    running_loss = 0.0\n",
    "    for i, data in enumerate(testloader, 0):\n",
    "        # get the inputs\n",
    "        inputs, labels = data\n",
    "\n",
    "       \n",
    "        outputs = net(inputs)\n",
    "        loss = criterion(outputs, labels)\n",
    "        loss.backward()\n",
    "        \n",
    "\n",
    "        # print statistics\n",
    "        running_loss += loss.item()\n",
    "        if i % 2000 == 1999:    # print every 2000 mini-batches\n",
    "            print('[%d, %5d] loss: %.3f' %\n",
    "                  (epoch + 1, i + 1, running_loss / 2000))\n",
    "            \n",
    "            test_losses.append(running_loss / 2000)\n",
    "            running_loss = 0.0\n",
    "\n",
    "print('Finished Training')"
   ]
  },
  {
   "cell_type": "code",
   "execution_count": null,
   "metadata": {},
   "outputs": [],
   "source": []
  }
 ],
 "metadata": {
  "kernelspec": {
   "display_name": "Python 3",
   "language": "python",
   "name": "python3"
  },
  "language_info": {
   "codemirror_mode": {
    "name": "ipython",
    "version": 3
   },
   "file_extension": ".py",
   "mimetype": "text/x-python",
   "name": "python",
   "nbconvert_exporter": "python",
   "pygments_lexer": "ipython3",
   "version": "3.6.4"
  }
 },
 "nbformat": 4,
 "nbformat_minor": 1
}
