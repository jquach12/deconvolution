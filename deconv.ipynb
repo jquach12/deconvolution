{
 "cells": [
  {
   "cell_type": "code",
   "execution_count": 15,
   "metadata": {},
   "outputs": [],
   "source": [
    "import torch\n",
    "import torchvision\n",
    "import torchvision.transforms as transforms\n",
    "import  matplotlib.pyplot as plt\n",
    "import numpy as np\n",
    "\n",
    "import torch.nn  as nn\n",
    "import torch.nn.functional as F"
   ]
  },
  {
   "cell_type": "code",
   "execution_count": 16,
   "metadata": {},
   "outputs": [],
   "source": [
    "%matplotlib inline"
   ]
  },
  {
   "cell_type": "code",
   "execution_count": 17,
   "metadata": {},
   "outputs": [],
   "source": [
    "#from https://github.com/pytorch/examples/blob/master/mnist/main.py\n",
    "class Net(nn.Module):\n",
    "    def __init__(self):\n",
    "        super(Net, self).__init__()\n",
    "        self.conv1 = nn.Conv2d(1, 10, kernel_size=5)\n",
    "        self.conv2 = nn.Conv2d(10, 20, kernel_size=5)\n",
    "        self.conv2_drop = nn.Dropout2d()\n",
    "        self.fc1 = nn.Linear(320, 50)\n",
    "        self.fc2 = nn.Linear(50, 10)\n",
    "\n",
    "    def forward(self, x):\n",
    "        x = F.relu(F.max_pool2d(self.conv1(x), 2))\n",
    "        x = F.relu(F.max_pool2d(self.conv2_drop(self.conv2(x)), 2))\n",
    "        x = x.view(-1, 320)\n",
    "        x = F.relu(self.fc1(x))\n",
    "        x = F.dropout(x, training=self.training)\n",
    "        x = self.fc2(x)\n",
    "        return F.log_softmax(x, dim=1)\n"
   ]
  },
  {
   "cell_type": "code",
   "execution_count": 18,
   "metadata": {},
   "outputs": [],
   "source": [
    "model = torch.load('mnist_model.pt')"
   ]
  },
  {
   "cell_type": "code",
   "execution_count": 19,
   "metadata": {},
   "outputs": [],
   "source": [
    "transform = transforms.Compose(\n",
    "    [transforms.ToTensor(),\n",
    "     transforms.Normalize((0.5, 0.5, 0.5), (0.5, 0.5, 0.5))])\n",
    "\n",
    "trainset = torchvision.datasets.MNIST(root='./data', train=True,\n",
    "                                        download=True, transform=transform)\n",
    "trainloader = torch.utils.data.DataLoader(trainset, batch_size=4,\n",
    "                                          shuffle=True, num_workers=2)\n",
    "\n",
    "testset = torchvision.datasets.MNIST(root='./data', train=False,\n",
    "                                       download=True, transform=transform)\n",
    "testloader = torch.utils.data.DataLoader(testset, batch_size=4,\n",
    "                                         shuffle=False, num_workers=2)\n",
    "\n",
    "classes = [i for i in range(10)]"
   ]
  },
  {
   "cell_type": "code",
   "execution_count": 20,
   "metadata": {},
   "outputs": [
    {
     "name": "stdout",
     "output_type": "stream",
     "text": [
      "<class 'torch.Tensor'>\n",
      "<class 'torch.Tensor'>\n",
      "    0     1     9     6\n"
     ]
    },
    {
     "data": {
      "image/png": "[encoded data removed]",
      "text/plain": [
       "<matplotlib.figure.Figure at 0x11c21d5f8>"
      ]
     },
     "metadata": {},
     "output_type": "display_data"
    }
   ],
   "source": [
    "def imshow(img):\n",
    "    print(type(img))\n",
    "    img = img / 2 + 0.5     # unnormalize\n",
    "    npimg = img.numpy()\n",
    "    plt.imshow(np.transpose(npimg, (1, 2, 0)))\n",
    "    \n",
    "# get some random training images\n",
    "dataiter = iter(trainloader)\n",
    "images, labels = dataiter.next()\n",
    "\n",
    "print(type(images))\n",
    "\n",
    "# show images\n",
    "imshow(torchvision.utils.make_grid(images))\n",
    "# print labels\n",
    "print(' '.join('%5s' % classes[labels[j]] for j in range(4)))\n",
    "\n",
    "classes = [i for i in range(10)]"
   ]
  },
  {
   "cell_type": "code",
   "execution_count": 21,
   "metadata": {},
   "outputs": [],
   "source": [
    "saved_images = images"
   ]
  },
  {
   "cell_type": "code",
   "execution_count": 22,
   "metadata": {},
   "outputs": [
    {
     "name": "stdout",
     "output_type": "stream",
     "text": [
      "<class 'torch.Tensor'>\n"
     ]
    },
    {
     "data": {
      "image/png": "[encoded data removed]",
      "text/plain": [
       "<matplotlib.figure.Figure at 0x1235d44a8>"
      ]
     },
     "metadata": {},
     "output_type": "display_data"
    }
   ],
   "source": [
    "imshow(torchvision.utils.make_grid(saved_images))"
   ]
  },
  {
   "cell_type": "code",
   "execution_count": 23,
   "metadata": {},
   "outputs": [
    {
     "name": "stdout",
     "output_type": "stream",
     "text": [
      "tensor([[-1.6556e-03, -2.1578e+01, -1.6048e+01, -2.0016e+01, -2.2252e+01,\n",
      "         -1.6572e+01, -6.4095e+00, -2.4565e+01, -1.1709e+01, -2.3515e+01],\n",
      "        [-2.5093e+01, -4.6342e-03, -1.1064e+01, -1.0559e+01, -1.2019e+01,\n",
      "         -1.5326e+01, -2.2408e+01, -5.3871e+00, -1.5814e+01, -1.6258e+01],\n",
      "        [-5.4139e+01, -6.4005e+01, -5.1547e+01, -3.5755e+01, -2.5117e+01,\n",
      "         -2.2634e+01, -6.3543e+01, -2.8425e+01, -3.1745e+01, -1.6082e-10],\n",
      "        [-1.7407e+01, -5.0221e+01, -4.1478e+01, -4.5270e+01, -4.9102e+01,\n",
      "         -2.5551e+01, -8.1819e-08, -6.7176e+01, -1.6730e+01, -5.4958e+01]])\n"
     ]
    }
   ],
   "source": [
    "outputs = model(saved_images)\n",
    "print(outputs)"
   ]
  },
  {
   "cell_type": "code",
   "execution_count": 10,
   "metadata": {},
   "outputs": [
    {
     "name": "stdout",
     "output_type": "stream",
     "text": [
      "tensor([ 6,  5,  7,  9])\n",
      "Predicted:      6     5     7     9\n"
     ]
    }
   ],
   "source": [
    "\n",
    "\n",
    "_, predicted = torch.max(outputs, 1)\n",
    "\n",
    "print(predicted)\n",
    "print('Predicted: ', ' '.join('%5s' % classes[predicted[j]]\n",
    "                              for j in range(4)))"
   ]
  },
  {
   "cell_type": "code",
   "execution_count": 11,
   "metadata": {},
   "outputs": [
    {
     "name": "stdout",
     "output_type": "stream",
     "text": [
      "Net(\n",
      "  (conv1): Conv2d(1, 10, kernel_size=(5, 5), stride=(1, 1))\n",
      "  (conv2): Conv2d(10, 20, kernel_size=(5, 5), stride=(1, 1))\n",
      "  (conv2_drop): Dropout2d(p=0.5)\n",
      "  (fc1): Linear(in_features=320, out_features=50, bias=True)\n",
      "  (fc2): Linear(in_features=50, out_features=10, bias=True)\n",
      ")\n"
     ]
    }
   ],
   "source": [
    "print(model)\n"
   ]
  },
  {
   "cell_type": "code",
   "execution_count": 12,
   "metadata": {},
   "outputs": [],
   "source": [
    "someResult = model.forward(saved_images)"
   ]
  },
  {
   "cell_type": "code",
   "execution_count": 13,
   "metadata": {},
   "outputs": [
    {
     "name": "stdout",
     "output_type": "stream",
     "text": [
      "tensor([[-1.6963e+01, -5.1892e+01, -4.3222e+01, -3.8926e+01, -3.5387e+01,\n",
      "         -2.0146e+01, -4.4908e-08, -5.4795e+01, -2.2619e+01, -4.6532e+01],\n",
      "        [-2.5292e+01, -5.1954e+01, -3.1431e+01, -2.1439e+01, -4.4763e+01,\n",
      "         -2.1924e-02, -1.3240e+01, -5.1650e+01, -3.8312e+00, -2.1702e+01],\n",
      "        [-4.6613e+01, -2.3363e+01, -1.6379e+01, -3.9726e+01, -2.7398e+01,\n",
      "         -4.2724e+01, -5.7138e+01, -7.7084e-08, -3.2202e+01, -3.0202e+01],\n",
      "        [-2.5700e+01, -3.9842e+01, -2.2987e+01, -2.1916e+01, -1.5483e+01,\n",
      "         -1.7548e+01, -3.8848e+01, -6.8502e+00, -1.9877e+01, -1.0600e-03]])\n"
     ]
    }
   ],
   "source": [
    "print(someResult)"
   ]
  },
  {
   "cell_type": "code",
   "execution_count": 14,
   "metadata": {},
   "outputs": [
    {
     "name": "stdout",
     "output_type": "stream",
     "text": [
      "<generator object Module.named_parameters at 0x1201a0308>\n",
      "tensor([[[[-0.1922,  0.4633, -0.0422, -0.0129,  0.0000],\n",
      "          [-0.0085,  0.3128, -0.0549, -0.2520, -0.0294],\n",
      "          [ 0.6815,  0.0363, -0.2059, -0.1711, -0.0461],\n",
      "          [ 0.0478, -0.1730, -0.1338, -0.0563, -0.3068],\n",
      "          [-0.2178, -0.0386, -0.0844,  0.0563, -0.2842]]],\n",
      "\n",
      "\n",
      "        [[[-0.1831, -0.0211, -0.0055,  0.1204,  0.4927],\n",
      "          [-0.2913, -0.0714, -0.0300, -0.0988,  0.4072],\n",
      "          [-0.1502, -0.2776, -0.0892, -0.0410,  0.2818],\n",
      "          [-0.0530, -0.1645, -0.1664, -0.1081,  0.0789],\n",
      "          [ 0.1083,  0.0514, -0.0119,  0.0082,  0.3213]]],\n",
      "\n",
      "\n",
      "        [[[-0.5004, -0.1118,  0.0810, -0.0055, -0.4849],\n",
      "          [-0.1172,  0.0295,  0.0921, -0.2980, -0.2721],\n",
      "          [-0.3657,  0.0172,  0.0918, -0.0769,  0.1420],\n",
      "          [-0.0558, -0.0613,  0.0602,  0.4388,  0.5791],\n",
      "          [ 0.2211,  0.0698,  0.0315, -0.0801, -0.2004]]],\n",
      "\n",
      "\n",
      "        [[[-0.4000, -0.1102,  0.4048,  0.0904,  0.0413],\n",
      "          [-0.2973, -0.5865, -0.4322, -0.3149,  0.0449],\n",
      "          [ 0.4057, -0.0169, -0.1974, -0.1251, -0.4281],\n",
      "          [ 0.3089,  0.5402, -0.1105, -0.1586, -0.0876],\n",
      "          [-0.3834,  0.1858,  0.4777,  0.2777,  0.4083]]],\n",
      "\n",
      "\n",
      "        [[[ 0.1148,  0.4053,  0.0076, -0.5125, -0.4448],\n",
      "          [-0.2992, -0.0990,  0.9063,  0.0415, -0.2792],\n",
      "          [-0.1326, -0.3770,  0.3882,  0.2845, -0.0588],\n",
      "          [-0.2808, -0.3338, -0.0796,  0.2664,  0.0182],\n",
      "          [ 0.1663,  0.0136, -0.1437,  0.1624, -0.0455]]],\n",
      "\n",
      "\n",
      "        [[[ 0.1121, -0.0138, -0.1709,  0.1296,  0.2752],\n",
      "          [ 0.0547,  0.4679,  0.1538,  0.1246,  0.3504],\n",
      "          [-0.4672,  0.0707,  0.1195,  0.0436,  0.0200],\n",
      "          [-0.6079,  0.1263,  0.0955,  0.1270, -0.1662],\n",
      "          [-0.1872, -0.5208, -0.5539, -0.4053, -0.3634]]],\n",
      "\n",
      "\n",
      "        [[[ 0.2914,  0.0545, -0.1999, -0.2183,  0.2668],\n",
      "          [-0.2908, -0.3100, -0.1467,  0.1923,  0.4869],\n",
      "          [-0.2918,  0.1065,  0.0436,  0.7371, -0.2922],\n",
      "          [-0.0487,  0.1103,  0.0150, -0.0058, -0.2956],\n",
      "          [ 0.0976, -0.0943,  0.0204,  0.1812,  0.0937]]],\n",
      "\n",
      "\n",
      "        [[[-0.1609,  0.5689,  0.6444,  0.5552, -0.1404],\n",
      "          [ 0.1520, -0.1636, -0.2942,  0.0224, -0.0583],\n",
      "          [-0.2550, -0.6938, -0.6966, -0.1709,  0.1127],\n",
      "          [-0.0994, -0.3265, -0.0073,  0.2191, -0.0750],\n",
      "          [ 0.5578,  0.2067,  0.3805, -0.1141, -0.1395]]],\n",
      "\n",
      "\n",
      "        [[[-0.0012,  0.0264,  0.3995,  0.0913, -0.0831],\n",
      "          [-0.0052,  0.5338,  0.0103, -0.4184, -0.2529],\n",
      "          [ 0.0669,  0.3250, -0.2419, -0.4539,  0.1090],\n",
      "          [ 0.1246,  0.7035, -0.6275, -0.2830,  0.3359],\n",
      "          [-0.2166,  0.6122,  0.6594,  0.3606,  0.2712]]],\n",
      "\n",
      "\n",
      "        [[[ 0.4543, -0.4497, -0.1571, -0.0545,  0.0079],\n",
      "          [ 0.3605, -0.0951, -0.0715, -0.3130, -0.0128],\n",
      "          [ 0.3006,  0.0434, -0.2056, -0.1506, -0.0041],\n",
      "          [ 0.2777, -0.1231, -0.0857, -0.0684, -0.0109],\n",
      "          [ 0.0317, -0.2212, -0.0646,  0.0468,  0.1269]]]])\n"
     ]
    }
   ],
   "source": [
    "print(model.named_parameters())\n",
    "\n",
    "grad_of_params = {}\n",
    "for name, parameter in model.named_parameters():\n",
    "    grad_of_params[name] = parameter\n",
    "    \n",
    "print(grad_of_params['conv1.weight'])"
   ]
  },
  {
   "cell_type": "code",
   "execution_count": null,
   "metadata": {},
   "outputs": [],
   "source": []
  }
 ],
 "metadata": {
  "kernelspec": {
   "display_name": "Python 3",
   "language": "python",
   "name": "python3"
  },
  "language_info": {
   "codemirror_mode": {
    "name": "ipython",
    "version": 3
   },
   "file_extension": ".py",
   "mimetype": "text/x-python",
   "name": "python",
   "nbconvert_exporter": "python",
   "pygments_lexer": "ipython3",
   "version": "3.6.4"
  }
 },
 "nbformat": 4,
 "nbformat_minor": 2
}
