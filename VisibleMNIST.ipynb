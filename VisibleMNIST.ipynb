{
 "cells": [
  {
   "cell_type": "code",
   "execution_count": 18,
   "metadata": {},
   "outputs": [],
   "source": [
    "# License: BSD\n",
    "# Author: Sasank Chilamkurthy\n",
    "\n",
    "from __future__ import print_function, division\n",
    "\n",
    "import torch\n",
    "import torch.nn as nn\n",
    "import torch.optim as optim\n",
    "from torch.optim import lr_scheduler\n",
    "import numpy as np\n",
    "import torchvision\n",
    "from torchvision import datasets, models, transforms\n",
    "import matplotlib.pyplot as plt\n",
    "import time\n",
    "import os\n",
    "import copy\n",
    "\n",
    "plt.ion()   # interactive mode"
   ]
  },
  {
   "cell_type": "code",
   "execution_count": 19,
   "metadata": {},
   "outputs": [],
   "source": [
    "batch_sz = 8\n",
    "\n",
    "transform = transforms.Compose(\n",
    "    [transforms.ToTensor(),\n",
    "     transforms.Normalize((0.5, 0.5, 0.5), (0.5, 0.5, 0.5))])\n",
    "\n",
    "trainset = torchvision.datasets.MNIST(root='./data', train=True,\n",
    "                                        download=True, transform=transform)\n",
    "trainloader = torch.utils.data.DataLoader(trainset, batch_size=batch_sz,\n",
    "                                          shuffle=True, num_workers=2)\n",
    "\n",
    "testset = torchvision.datasets.MNIST(root='./data', train=False,\n",
    "                                       download=True, transform=transform)\n",
    "testloader = torch.utils.data.DataLoader(testset, batch_size=1,\n",
    "                                         shuffle=True, num_workers=2)\n",
    "\n",
    "classes = [i for i in range(10)]"
   ]
  },
  {
   "cell_type": "code",
   "execution_count": 20,
   "metadata": {},
   "outputs": [
    {
     "name": "stdout",
     "output_type": "stream",
     "text": [
      "    5     0     7     9\n"
     ]
    },
    {
     "name": "stderr",
     "output_type": "stream",
     "text": [
      "Exception ignored in: <bound method _DataLoaderIter.__del__ of <torch.utils.data.dataloader._DataLoaderIter object at 0x11a732940>>\n",
      "Traceback (most recent call last):\n",
      "  File \"/Users/silver/anaconda3/lib/python3.6/site-packages/torch/utils/data/dataloader.py\", line 349, in __del__\n",
      "    self._shutdown_workers()\n",
      "  File \"/Users/silver/anaconda3/lib/python3.6/site-packages/torch/utils/data/dataloader.py\", line 328, in _shutdown_workers\n",
      "    self.worker_result_queue.get()\n",
      "  File \"/Users/silver/anaconda3/lib/python3.6/multiprocessing/queues.py\", line 337, in get\n",
      "    return _ForkingPickler.loads(res)\n",
      "  File \"/Users/silver/anaconda3/lib/python3.6/site-packages/torch/multiprocessing/reductions.py\", line 86, in rebuild_storage_filename\n",
      "    storage = cls._new_shared_filename(manager, handle, size)\n",
      "RuntimeError: Interrupted system call at /Users/soumith/minicondabuild3/conda-bld/pytorch_1524590658547/work/torch/lib/libshm/core.cpp:125\n"
     ]
    },
    {
     "data": {
      "image/png": "[encoded data removed]",
      "text/plain": [
       "<matplotlib.figure.Figure at 0x11aa26748>"
      ]
     },
     "metadata": {},
     "output_type": "display_data"
    }
   ],
   "source": [
    "import matplotlib.pyplot as plt\n",
    "import numpy as np\n",
    "\n",
    "# functions to show an image\n",
    "\n",
    "\n",
    "def imshow(img):\n",
    "    img = img / 2 + 0.5     # unnormalize\n",
    "    npimg = img.numpy()\n",
    "    plt.imshow(np.transpose(npimg, (1, 2, 0)))\n",
    "\n",
    "\n",
    "# get some random training images\n",
    "dataiter = iter(trainloader)\n",
    "images, labels = dataiter.next()\n",
    "\n",
    "# show images\n",
    "imshow(torchvision.utils.make_grid(images))\n",
    "# print labels\n",
    "print(' '.join('%5s' % classes[labels[j]] for j in range(4)))"
   ]
  },
  {
   "cell_type": "code",
   "execution_count": 21,
   "metadata": {},
   "outputs": [
    {
     "name": "stdout",
     "output_type": "stream",
     "text": [
      "MNISTConvNet(\n",
      "  (conv1): Conv2d(1, 10, kernel_size=(5, 5), stride=(1, 1))\n",
      "  (pool1): MaxPool2d(kernel_size=2, stride=2, padding=0, dilation=1, ceil_mode=False)\n",
      "  (conv2): Conv2d(10, 20, kernel_size=(5, 5), stride=(1, 1))\n",
      "  (pool2): MaxPool2d(kernel_size=2, stride=2, padding=0, dilation=1, ceil_mode=False)\n",
      "  (fc1): Linear(in_features=320, out_features=50, bias=True)\n",
      "  (fc2): Linear(in_features=50, out_features=10, bias=True)\n",
      ")\n"
     ]
    }
   ],
   "source": [
    "#https://github.com/pytorch/tutorials/blob/master/beginner_source/former_torchies/nn_tutorial.py\n",
    "\n",
    "# -*- coding: utf-8 -*-\n",
    "\"\"\"\n",
    "nn package\n",
    "==========\n",
    "We’ve redesigned the nn package, so that it’s fully integrated with\n",
    "autograd. Let's review the changes.\n",
    "**Replace containers with autograd:**\n",
    "    You no longer have to use Containers like ``ConcatTable``, or modules like\n",
    "    ``CAddTable``, or use and debug with nngraph. We will seamlessly use\n",
    "    autograd to define our neural networks. For example,\n",
    "    * ``output = nn.CAddTable():forward({input1, input2})`` simply becomes\n",
    "      ``output = input1 + input2``\n",
    "    * ``output = nn.MulConstant(0.5):forward(input)`` simply becomes\n",
    "      ``output = input * 0.5``\n",
    "**State is no longer held in the module, but in the network graph:**\n",
    "    Using recurrent networks should be simpler because of this reason. If\n",
    "    you want to create a recurrent network, simply use the same Linear layer\n",
    "    multiple times, without having to think about sharing weights.\n",
    "    .. figure:: /_static/img/torch-nn-vs-pytorch-nn.png\n",
    "       :alt: torch-nn-vs-pytorch-nn\n",
    "       torch-nn-vs-pytorch-nn\n",
    "**Simplified debugging:**\n",
    "    Debugging is intuitive using Python’s pdb debugger, and **the debugger\n",
    "    and stack traces stop at exactly where an error occurred.** What you see\n",
    "    is what you get.\n",
    "Example 1: ConvNet\n",
    "------------------\n",
    "Let’s see how to create a small ConvNet.\n",
    "All of your networks are derived from the base class ``nn.Module``:\n",
    "-  In the constructor, you declare all the layers you want to use.\n",
    "-  In the forward function, you define how your model is going to be\n",
    "   run, from input to output\n",
    "\"\"\"\n",
    "\n",
    "import torch\n",
    "import torch.nn as nn\n",
    "import torch.nn.functional as F\n",
    "\n",
    "\n",
    "class MNISTConvNet(nn.Module):\n",
    "\n",
    "    def __init__(self):\n",
    "        # this is the place where you instantiate all your modules\n",
    "        # you can later access them using the same names you've given them in\n",
    "        # here\n",
    "        super(MNISTConvNet, self).__init__()\n",
    "        self.conv1 = nn.Conv2d(1, 10, 5)  \n",
    "        self.pool1 = nn.MaxPool2d(2, 2)\n",
    "        self.conv2 = nn.Conv2d(10, 20, 5)\n",
    "        self.pool2 = nn.MaxPool2d(2, 2)\n",
    "        self.fc1 = nn.Linear(320, 50) #320\n",
    "        self.fc2 = nn.Linear(50, 10)\n",
    "\n",
    "    # it's the forward function that defines the network structure\n",
    "    # we're accepting only a single input in here, but if you want,\n",
    "    # feel free to use more\n",
    "    def forward(self, input):\n",
    "        x = self.pool1(F.relu(self.conv1(input)))\n",
    "        x = self.pool2(F.relu(self.conv2(x)))\n",
    "\n",
    "        # in your model definition you can go full crazy and use arbitrary\n",
    "        # python code to define your model structure\n",
    "        # all these are perfectly legal, and will be handled correctly\n",
    "        # by autograd:\n",
    "        # if x.gt(0) > x.numel() / 2:\n",
    "        #      ...\n",
    "        #\n",
    "        # you can even do a loop and reuse the same module inside it\n",
    "        # modules no longer hold ephemeral state, so you can use them\n",
    "        # multiple times during your forward pass\n",
    "        # while x.norm(2) < 10:\n",
    "        #    x = self.conv1(x)\n",
    "\n",
    "        x = x.view(x.size(0), -1)\n",
    "        x = F.relu(self.fc1(x))\n",
    "        x = F.relu(self.fc2(x))\n",
    "        return x\n",
    "\n",
    "###############################################################\n",
    "# Let's use the defined ConvNet now.\n",
    "# You create an instance of the class first.\n",
    "\n",
    "\n",
    "net = MNISTConvNet()\n",
    "print(net)\n",
    "\n",
    "########################################################################\n",
    "# .. note::\n",
    "#\n",
    "#     ``torch.nn`` only supports mini-batches The entire ``torch.nn``\n",
    "#     package only supports inputs that are a mini-batch of samples, and not\n",
    "#     a single sample.\n",
    "#\n",
    "#     For example, ``nn.Conv2d`` will take in a 4D Tensor of\n",
    "#     ``nSamples x nChannels x Height x Width``.\n",
    "#\n",
    "#     If you have a single sample, just use ``input.unsqueeze(0)`` to add\n",
    "#     a fake batch dimension.\n"
   ]
  },
  {
   "cell_type": "code",
   "execution_count": null,
   "metadata": {},
   "outputs": [],
   "source": []
  },
  {
   "cell_type": "code",
   "execution_count": 22,
   "metadata": {},
   "outputs": [],
   "source": [
    "#PRINTS FOR DAYS\n",
    "\n",
    "\n",
    "########################################################################\n",
    "# The output of the ConvNet ``out`` is a ``Tensor``. We compute the loss\n",
    "# using that, and that results in ``err`` which is also a ``Tensor``.\n",
    "# Calling ``.backward`` on ``err`` hence will propagate gradients all the\n",
    "# way through the ConvNet to it’s weights\n",
    "#\n",
    "# Let's access individual layer weights and gradients:\n",
    "\n",
    "# print(\"THIS IS CONV1 WEIGHT GRAD SIZE\")\n",
    "# print(net.conv1.weight.grad.size())\n",
    "\n",
    "# print(\"THIS IS CONV1 WEIGHT GRAD\")\n",
    "# print(net.conv1.weight.grad)\n",
    "\n",
    "#'MaxPool2d' object has no attribute 'weight'\n",
    "# print(\"THIS IS POOL1 WEIGHT GRAD SIZE\")\n",
    "# print(net.pool1.weight.grad.size())\n",
    "\n",
    "# print(\"THIS IS POOL1 WEIGHT GRAD\")\n",
    "# print(net.pool1.weight.grad)\n",
    "\n",
    "\n",
    "# print(\"THIS IS CONV2 WEIGHT GRAD SIZE\")\n",
    "# print(net.conv2.weight.grad.size())\n",
    "\n",
    "# print(\"THIS IS CONV2 WEIGHT GRAD\")\n",
    "# print(net.conv2.weight.grad)\n",
    "\n",
    "# print(\"THIS IS FC1 WEIGHT GRAD SIZE\")\n",
    "# print(net.fc1.weight.grad.size())\n",
    "\n",
    "# print(\"THIS IS FC1 WEIGHT GRAD\")\n",
    "# print(net.fc1.weight.grad)\n",
    "\n",
    "# print(\"THIS IS FC2 WEIGHT GRAD SIZE\")\n",
    "# print(net.fc2.weight.grad.size())\n",
    "\n",
    "# print(\"THIS IS FC2 WEIGHT GRAD\")\n",
    "# print(net.fc2.weight.grad)"
   ]
  },
  {
   "cell_type": "code",
   "execution_count": 23,
   "metadata": {},
   "outputs": [
    {
     "data": {
      "image/png": "[encoded data removed]",
      "text/plain": [
       "<matplotlib.figure.Figure at 0x11e04d5f8>"
      ]
     },
     "metadata": {},
     "output_type": "display_data"
    }
   ],
   "source": [
    "plt.plot(losses)\n",
    "plt.title(\"Losses over 50 Epochs\")\n",
    "plt.ylabel('Loss')\n",
    "plt.show()"
   ]
  },
  {
   "cell_type": "code",
   "execution_count": 24,
   "metadata": {},
   "outputs": [
    {
     "name": "stdout",
     "output_type": "stream",
     "text": [
      "GroundTruth:      1\n"
     ]
    },
    {
     "name": "stderr",
     "output_type": "stream",
     "text": [
      "Exception ignored in: <bound method _DataLoaderIter.__del__ of <torch.utils.data.dataloader._DataLoaderIter object at 0x11a8be9e8>>\n",
      "Traceback (most recent call last):\n",
      "  File \"/Users/silver/anaconda3/lib/python3.6/site-packages/torch/utils/data/dataloader.py\", line 349, in __del__\n",
      "    self._shutdown_workers()\n",
      "  File \"/Users/silver/anaconda3/lib/python3.6/site-packages/torch/utils/data/dataloader.py\", line 328, in _shutdown_workers\n",
      "    self.worker_result_queue.get()\n",
      "  File \"/Users/silver/anaconda3/lib/python3.6/multiprocessing/queues.py\", line 337, in get\n",
      "    return _ForkingPickler.loads(res)\n",
      "  File \"/Users/silver/anaconda3/lib/python3.6/site-packages/torch/multiprocessing/reductions.py\", line 86, in rebuild_storage_filename\n",
      "    storage = cls._new_shared_filename(manager, handle, size)\n",
      "RuntimeError: Interrupted system call at /Users/soumith/minicondabuild3/conda-bld/pytorch_1524590658547/work/torch/lib/libshm/core.cpp:125\n"
     ]
    },
    {
     "data": {
      "image/png": "[encoded data removed]",
      "text/plain": [
       "<matplotlib.figure.Figure at 0x11a8be9e8>"
      ]
     },
     "metadata": {},
     "output_type": "display_data"
    }
   ],
   "source": [
    "dataiter = iter(testloader)\n",
    "images, labels = dataiter.next()\n",
    "\n",
    "# print images\n",
    "imshow(torchvision.utils.make_grid(images))\n",
    "print('GroundTruth: ', ' '.join('%5s' % classes[labels[j]] for j in range(1)))"
   ]
  },
  {
   "cell_type": "code",
   "execution_count": 9,
   "metadata": {},
   "outputs": [
    {
     "name": "stdout",
     "output_type": "stream",
     "text": [
      "tensor(1.00000e-02 *\n",
      "       [[[[-0.3610, -0.3067, -0.0403,  0.1137,  0.3347],\n",
      "          [-0.4493, -0.3533,  0.0710,  0.1550,  0.2200],\n",
      "          [-0.2805, -0.2704, -0.0578, -0.0779, -0.3863],\n",
      "          [-0.3973, -0.6161, -0.3356, -0.3386, -0.4498],\n",
      "          [-0.5127, -0.7174, -0.3586, -0.1728, -0.1808]]],\n",
      "\n",
      "\n",
      "        [[[-0.7713, -0.5443, -0.3521, -0.0249,  0.1743],\n",
      "          [-0.3638, -0.5876,  0.0627,  0.1811, -0.0269],\n",
      "          [-0.1599,  0.0050,  0.3481,  0.1462,  0.0620],\n",
      "          [-0.0140,  0.3630,  0.3227,  0.0829,  0.0544],\n",
      "          [ 0.2105,  0.3383,  0.2487,  0.2510, -0.2286]]],\n",
      "\n",
      "\n",
      "        [[[-0.0326, -0.1504,  0.0510,  0.2032,  0.1187],\n",
      "          [ 0.0535,  0.2045,  0.2156,  0.0697, -0.0173],\n",
      "          [-0.0432,  0.3125,  0.2915,  0.2472,  0.2052],\n",
      "          [ 0.0249,  0.2896,  0.4818,  0.6258,  0.4809],\n",
      "          [ 0.0581,  0.2810,  0.6598,  0.8535,  0.5637]]],\n",
      "\n",
      "\n",
      "        [[[ 0.4310,  0.3095,  0.4343,  0.4968,  0.5473],\n",
      "          [ 0.6265,  0.8177,  0.5257,  0.3599,  0.6427],\n",
      "          [ 0.4734,  0.7084,  0.4299,  0.3392,  0.3673],\n",
      "          [ 0.2504,  0.3678,  0.2484,  0.0054,  0.0722],\n",
      "          [ 0.1522,  0.1311,  0.2921,  0.2678, -0.1751]]],\n",
      "\n",
      "\n",
      "        [[[ 0.3506,  0.1608, -0.1360, -0.2201, -0.3008],\n",
      "          [ 0.8219,  0.6530,  0.1583, -0.0807, -0.0918],\n",
      "          [ 0.9442,  1.0169,  0.3880,  0.2382,  0.1678],\n",
      "          [ 0.9736,  0.5966,  0.5449,  0.5265,  0.4773],\n",
      "          [ 0.9475,  0.4545,  0.5699,  0.7053,  0.6388]]],\n",
      "\n",
      "\n",
      "        [[[-0.1831, -0.1215,  0.1928,  0.5073,  0.5870],\n",
      "          [-0.1220, -0.2420, -0.0581,  0.2557,  0.6374],\n",
      "          [-0.1283, -0.2449, -0.2703,  0.4690,  0.6311],\n",
      "          [-0.1823, -0.3353,  0.0209,  0.3542,  0.4474],\n",
      "          [-0.1973, -0.3949,  0.4075,  0.6170,  0.1344]]],\n",
      "\n",
      "\n",
      "        [[[-0.3038, -0.2027, -0.1046, -0.0316, -0.0584],\n",
      "          [-0.1791, -0.0861,  0.0379,  0.0570, -0.0084],\n",
      "          [ 0.0629,  0.0779,  0.4275,  0.4482,  0.2872],\n",
      "          [ 0.1416,  0.4036,  0.5746,  0.6506,  0.3336],\n",
      "          [ 0.7105,  0.8409,  0.6004,  0.4147,  0.3783]]],\n",
      "\n",
      "\n",
      "        [[[-0.8678, -0.6790, -0.5866, -0.1616,  0.1983],\n",
      "          [-0.4111, -0.1501,  0.0522, -0.0929,  0.0772],\n",
      "          [ 0.1778,  0.0996,  0.1329,  0.1515,  0.0133],\n",
      "          [ 0.2865,  0.3208,  0.4461,  0.4701,  0.2586],\n",
      "          [ 0.4359,  0.4341,  0.5647,  0.7803,  0.4886]]],\n",
      "\n",
      "\n",
      "        [[[ 0.4726,  0.6671,  0.5218,  0.4985,  0.5226],\n",
      "          [ 0.2097,  0.2149,  0.2575,  0.2666,  0.2748],\n",
      "          [-0.0207, -0.0698,  0.0125,  0.0940, -0.0158],\n",
      "          [-0.3197, -0.4863, -0.3136, -0.1464, -0.2481],\n",
      "          [-0.4978, -0.4579, -0.2950, -0.1361, -0.0639]]],\n",
      "\n",
      "\n",
      "        [[[-0.4192, -0.5329, -0.3885, -0.4001, -0.2824],\n",
      "          [-0.0208, -0.1620, -0.2785, -0.5809, -0.4279],\n",
      "          [ 0.1033, -0.1501, -0.6888, -0.7902, -0.3832],\n",
      "          [ 0.0311, -0.2212, -0.8148, -0.7869, -0.4280],\n",
      "          [ 0.0881, -0.3817, -0.7506, -0.6058, -0.0178]]]])\n"
     ]
    }
   ],
   "source": [
    "#suppose i am interested in first layer\n",
    "print(net.conv1.weight.grad)\n",
    "\n",
    "# #outputs = net(images)#forward pass\n",
    "\n",
    "# print(outputs)\n",
    "# loss = criterion(outputs, labels)\n",
    "# print(loss.item())\n",
    "# print(net.conv1.weight.data.grad)\n",
    "# print(net.conv1.weight.data)\n"
   ]
  },
  {
   "cell_type": "code",
   "execution_count": 10,
   "metadata": {},
   "outputs": [
    {
     "name": "stdout",
     "output_type": "stream",
     "text": [
      "Predicted:      8\n"
     ]
    }
   ],
   "source": [
    "_, predicted = torch.max(outputs, 1)\n",
    "\n",
    "print('Predicted: ', ' '.join('%5s' % classes[predicted[j]]\n",
    "                              for j in range(1)))"
   ]
  },
  {
   "cell_type": "code",
   "execution_count": null,
   "metadata": {},
   "outputs": [],
   "source": []
  },
  {
   "cell_type": "code",
   "execution_count": null,
   "metadata": {},
   "outputs": [],
   "source": []
  }
 ],
 "metadata": {
  "kernelspec": {
   "display_name": "Python 3",
   "language": "python",
   "name": "python3"
  },
  "language_info": {
   "codemirror_mode": {
    "name": "ipython",
    "version": 3
   },
   "file_extension": ".py",
   "mimetype": "text/x-python",
   "name": "python",
   "nbconvert_exporter": "python",
   "pygments_lexer": "ipython3",
   "version": "3.6.4"
  }
 },
 "nbformat": 4,
 "nbformat_minor": 2
}
